{
 "cells": [
  {
   "cell_type": "code",
   "execution_count": 1,
   "id": "suspected-instrument",
   "metadata": {},
   "outputs": [],
   "source": [
    "import numpy as np\n",
    "import torch\n",
    "import torchvision\n",
    "import matplotlib.pyplot as plt\n",
    "from time import time\n",
    "from torchvision import datasets, transforms\n",
    "from torch import nn, optim\n",
    "from tqdm.notebook import trange, tqdm\n",
    "from torch.autograd import Variable"
   ]
  },
  {
   "cell_type": "code",
   "execution_count": 2,
   "id": "historical-undergraduate",
   "metadata": {},
   "outputs": [],
   "source": [
    "class scramble(object):\n",
    "    def __init__(self):\n",
    "        self.seed = np.random.randint(10 ** 8)\n",
    "\n",
    "    def __call__(self, pic):\n",
    "        \"\"\"\n",
    "        Args:\n",
    "            pic (PIL Image or numpy.ndarray): Image to be converted to tensor.\n",
    "        Returns:\n",
    "            np.array: Image scrambled and converted to numpy array.\n",
    "        \"\"\"\n",
    "        np.random.seed(self.seed)\n",
    "        pic = np.array(pic).flatten()\n",
    "        np.random.shuffle(pic)\n",
    "        pic = (pic.reshape(28, 28) / 255).astype(float)\n",
    "        return pic\n",
    "        \n",
    "    def __repr__(self):\n",
    "        return self.__class__.__name__ + '()'"
   ]
  },
  {
   "cell_type": "code",
   "execution_count": 3,
   "id": "sophisticated-happiness",
   "metadata": {},
   "outputs": [],
   "source": [
    "s1 = scramble()\n",
    "s2 = scramble()\n",
    "\n",
    "\n",
    "trainset1 = datasets.MNIST('./files', train=True, transform=transforms.Compose([\n",
    "    s1,\n",
    "    transforms.ToTensor()\n",
    "]))\n",
    "trainset2 = datasets.MNIST('./files', train=True, transform=transforms.Compose([\n",
    "    s2,\n",
    "    transforms.ToTensor()\n",
    "]))\n",
    "testset1 = datasets.MNIST('./files', train=False, transform=transforms.Compose([\n",
    "    s1,\n",
    "    transforms.ToTensor()\n",
    "]))\n",
    "testset2 = datasets.MNIST('./files', train=False, transform=transforms.Compose([\n",
    "    s2,\n",
    "    transforms.ToTensor()\n",
    "]))"
   ]
  },
  {
   "cell_type": "code",
   "execution_count": 4,
   "id": "romantic-bones",
   "metadata": {},
   "outputs": [],
   "source": [
    "class Net(nn.Module):\n",
    "    def __init__(self):\n",
    "        super(Net, self).__init__()\n",
    "        self.model = nn.Sequential(\n",
    "            nn.Flatten(),\n",
    "            nn.Linear(784, 400),\n",
    "            nn.ReLU(),\n",
    "            nn.Linear(400, 400),\n",
    "            nn.ReLU(),\n",
    "            nn.Linear(400, 10)\n",
    "        )\n",
    "        \n",
    "    def forward(self, x):\n",
    "        return self.model(x.float())\n",
    "        \n"
   ]
  },
  {
   "cell_type": "code",
   "execution_count": 5,
   "id": "brave-montgomery",
   "metadata": {},
   "outputs": [],
   "source": [
    "train_loader1 = torch.utils.data.DataLoader(\n",
    "    trainset1,\n",
    "    batch_size=1,\n",
    "    num_workers=2,\n",
    "    drop_last=False,\n",
    "    shuffle=True)\n",
    "\n",
    "test_loader1 = torch.utils.data.DataLoader(\n",
    "    testset1,\n",
    "    batch_size=1,\n",
    "    num_workers=2,\n",
    "    drop_last=False)\n",
    "\n",
    "\n",
    "train_loader2 = torch.utils.data.DataLoader(\n",
    "    trainset2,\n",
    "    batch_size=1,\n",
    "    num_workers=2,\n",
    "    drop_last=False,\n",
    "    shuffle=True)\n",
    "\n",
    "test_loader2 = torch.utils.data.DataLoader(\n",
    "    testset2,\n",
    "    batch_size=1,\n",
    "    num_workers=2,\n",
    "    drop_last=False)"
   ]
  },
  {
   "cell_type": "code",
   "execution_count": 6,
   "id": "fitting-elements",
   "metadata": {
    "scrolled": true
   },
   "outputs": [
    {
     "name": "stdout",
     "output_type": "stream",
     "text": [
      "Epoch[1] Loss: 0.18\n",
      "Epoch[1] Loss: 0.15\n",
      "Epoch[1] Loss: 0.26\n",
      "Epoch[1] Loss: 0.29\n",
      "Epoch[1] Loss: 0.11\n",
      "Epoch[1] Loss: 0.16\n",
      "Epoch 1 Validation Accuracy: 92.73%\n",
      "Epoch[2] Loss: 0.04\n"
     ]
    },
    {
     "name": "stderr",
     "output_type": "stream",
     "text": [
      "Engine run is terminating due to exception: \n"
     ]
    },
    {
     "ename": "KeyboardInterrupt",
     "evalue": "",
     "output_type": "error",
     "traceback": [
      "\u001b[0;31m---------------------------------------------------------------------------\u001b[0m",
      "\u001b[0;31mKeyboardInterrupt\u001b[0m                         Traceback (most recent call last)",
      "\u001b[0;32m<ipython-input-6-77a4b2a70e5d>\u001b[0m in \u001b[0;36m<module>\u001b[0;34m\u001b[0m\n\u001b[1;32m     33\u001b[0m     \u001b[0mprint\u001b[0m\u001b[0;34m(\u001b[0m\u001b[0;34m\"Epoch {} Validation Accuracy: {}%\"\u001b[0m\u001b[0;34m.\u001b[0m\u001b[0mformat\u001b[0m\u001b[0;34m(\u001b[0m\u001b[0mtrainer\u001b[0m\u001b[0;34m.\u001b[0m\u001b[0mstate\u001b[0m\u001b[0;34m.\u001b[0m\u001b[0mepoch\u001b[0m\u001b[0;34m,\u001b[0m \u001b[0mround\u001b[0m\u001b[0;34m(\u001b[0m\u001b[0;36m100\u001b[0m \u001b[0;34m*\u001b[0m \u001b[0mcorrect\u001b[0m \u001b[0;34m/\u001b[0m \u001b[0mtot\u001b[0m\u001b[0;34m,\u001b[0m \u001b[0;36m3\u001b[0m\u001b[0;34m)\u001b[0m\u001b[0;34m)\u001b[0m\u001b[0;34m)\u001b[0m\u001b[0;34m\u001b[0m\u001b[0;34m\u001b[0m\u001b[0m\n\u001b[1;32m     34\u001b[0m     \u001b[0mnet\u001b[0m\u001b[0;34m.\u001b[0m\u001b[0mtrain\u001b[0m\u001b[0;34m(\u001b[0m\u001b[0;34m)\u001b[0m\u001b[0;34m\u001b[0m\u001b[0;34m\u001b[0m\u001b[0m\n\u001b[0;32m---> 35\u001b[0;31m \u001b[0mtrainer\u001b[0m\u001b[0;34m.\u001b[0m\u001b[0mrun\u001b[0m\u001b[0;34m(\u001b[0m\u001b[0mtrain_loader1\u001b[0m\u001b[0;34m,\u001b[0m \u001b[0mmax_epochs\u001b[0m\u001b[0;34m=\u001b[0m\u001b[0;36m10\u001b[0m\u001b[0;34m)\u001b[0m\u001b[0;34m\u001b[0m\u001b[0;34m\u001b[0m\u001b[0m\n\u001b[0m",
      "\u001b[0;32m~/anaconda3/envs/torch2/lib/python3.7/site-packages/ignite/engine/engine.py\u001b[0m in \u001b[0;36mrun\u001b[0;34m(self, data, max_epochs, epoch_length, seed)\u001b[0m\n\u001b[1;32m    700\u001b[0m \u001b[0;34m\u001b[0m\u001b[0m\n\u001b[1;32m    701\u001b[0m         \u001b[0mself\u001b[0m\u001b[0;34m.\u001b[0m\u001b[0mstate\u001b[0m\u001b[0;34m.\u001b[0m\u001b[0mdataloader\u001b[0m \u001b[0;34m=\u001b[0m \u001b[0mdata\u001b[0m\u001b[0;34m\u001b[0m\u001b[0;34m\u001b[0m\u001b[0m\n\u001b[0;32m--> 702\u001b[0;31m         \u001b[0;32mreturn\u001b[0m \u001b[0mself\u001b[0m\u001b[0;34m.\u001b[0m\u001b[0m_internal_run\u001b[0m\u001b[0;34m(\u001b[0m\u001b[0;34m)\u001b[0m\u001b[0;34m\u001b[0m\u001b[0;34m\u001b[0m\u001b[0m\n\u001b[0m\u001b[1;32m    703\u001b[0m \u001b[0;34m\u001b[0m\u001b[0m\n\u001b[1;32m    704\u001b[0m     \u001b[0;34m@\u001b[0m\u001b[0mstaticmethod\u001b[0m\u001b[0;34m\u001b[0m\u001b[0;34m\u001b[0m\u001b[0m\n",
      "\u001b[0;32m~/anaconda3/envs/torch2/lib/python3.7/site-packages/ignite/engine/engine.py\u001b[0m in \u001b[0;36m_internal_run\u001b[0;34m(self)\u001b[0m\n\u001b[1;32m    773\u001b[0m             \u001b[0mself\u001b[0m\u001b[0;34m.\u001b[0m\u001b[0m_dataloader_iter\u001b[0m \u001b[0;34m=\u001b[0m \u001b[0;32mNone\u001b[0m\u001b[0;34m\u001b[0m\u001b[0;34m\u001b[0m\u001b[0m\n\u001b[1;32m    774\u001b[0m             \u001b[0mself\u001b[0m\u001b[0;34m.\u001b[0m\u001b[0mlogger\u001b[0m\u001b[0;34m.\u001b[0m\u001b[0merror\u001b[0m\u001b[0;34m(\u001b[0m\u001b[0;34mf\"Engine run is terminating due to exception: {e}\"\u001b[0m\u001b[0;34m)\u001b[0m\u001b[0;34m\u001b[0m\u001b[0;34m\u001b[0m\u001b[0m\n\u001b[0;32m--> 775\u001b[0;31m             \u001b[0mself\u001b[0m\u001b[0;34m.\u001b[0m\u001b[0m_handle_exception\u001b[0m\u001b[0;34m(\u001b[0m\u001b[0me\u001b[0m\u001b[0;34m)\u001b[0m\u001b[0;34m\u001b[0m\u001b[0;34m\u001b[0m\u001b[0m\n\u001b[0m\u001b[1;32m    776\u001b[0m \u001b[0;34m\u001b[0m\u001b[0m\n\u001b[1;32m    777\u001b[0m         \u001b[0mself\u001b[0m\u001b[0;34m.\u001b[0m\u001b[0m_dataloader_iter\u001b[0m \u001b[0;34m=\u001b[0m \u001b[0;32mNone\u001b[0m\u001b[0;34m\u001b[0m\u001b[0;34m\u001b[0m\u001b[0m\n",
      "\u001b[0;32m~/anaconda3/envs/torch2/lib/python3.7/site-packages/ignite/engine/engine.py\u001b[0m in \u001b[0;36m_handle_exception\u001b[0;34m(self, e)\u001b[0m\n\u001b[1;32m    467\u001b[0m             \u001b[0mself\u001b[0m\u001b[0;34m.\u001b[0m\u001b[0m_fire_event\u001b[0m\u001b[0;34m(\u001b[0m\u001b[0mEvents\u001b[0m\u001b[0;34m.\u001b[0m\u001b[0mEXCEPTION_RAISED\u001b[0m\u001b[0;34m,\u001b[0m \u001b[0me\u001b[0m\u001b[0;34m)\u001b[0m\u001b[0;34m\u001b[0m\u001b[0;34m\u001b[0m\u001b[0m\n\u001b[1;32m    468\u001b[0m         \u001b[0;32melse\u001b[0m\u001b[0;34m:\u001b[0m\u001b[0;34m\u001b[0m\u001b[0;34m\u001b[0m\u001b[0m\n\u001b[0;32m--> 469\u001b[0;31m             \u001b[0;32mraise\u001b[0m \u001b[0me\u001b[0m\u001b[0;34m\u001b[0m\u001b[0;34m\u001b[0m\u001b[0m\n\u001b[0m\u001b[1;32m    470\u001b[0m \u001b[0;34m\u001b[0m\u001b[0m\n\u001b[1;32m    471\u001b[0m     \u001b[0;34m@\u001b[0m\u001b[0mproperty\u001b[0m\u001b[0;34m\u001b[0m\u001b[0;34m\u001b[0m\u001b[0m\n",
      "\u001b[0;32m~/anaconda3/envs/torch2/lib/python3.7/site-packages/ignite/engine/engine.py\u001b[0m in \u001b[0;36m_internal_run\u001b[0;34m(self)\u001b[0m\n\u001b[1;32m    743\u001b[0m                     \u001b[0mself\u001b[0m\u001b[0;34m.\u001b[0m\u001b[0m_setup_engine\u001b[0m\u001b[0;34m(\u001b[0m\u001b[0;34m)\u001b[0m\u001b[0;34m\u001b[0m\u001b[0;34m\u001b[0m\u001b[0m\n\u001b[1;32m    744\u001b[0m \u001b[0;34m\u001b[0m\u001b[0m\n\u001b[0;32m--> 745\u001b[0;31m                 \u001b[0mtime_taken\u001b[0m \u001b[0;34m=\u001b[0m \u001b[0mself\u001b[0m\u001b[0;34m.\u001b[0m\u001b[0m_run_once_on_dataset\u001b[0m\u001b[0;34m(\u001b[0m\u001b[0;34m)\u001b[0m\u001b[0;34m\u001b[0m\u001b[0;34m\u001b[0m\u001b[0m\n\u001b[0m\u001b[1;32m    746\u001b[0m                 \u001b[0;31m# time is available for handlers but must be update after fire\u001b[0m\u001b[0;34m\u001b[0m\u001b[0;34m\u001b[0m\u001b[0;34m\u001b[0m\u001b[0m\n\u001b[1;32m    747\u001b[0m                 \u001b[0mself\u001b[0m\u001b[0;34m.\u001b[0m\u001b[0mstate\u001b[0m\u001b[0;34m.\u001b[0m\u001b[0mtimes\u001b[0m\u001b[0;34m[\u001b[0m\u001b[0mEvents\u001b[0m\u001b[0;34m.\u001b[0m\u001b[0mEPOCH_COMPLETED\u001b[0m\u001b[0;34m.\u001b[0m\u001b[0mname\u001b[0m\u001b[0;34m]\u001b[0m \u001b[0;34m=\u001b[0m \u001b[0mtime_taken\u001b[0m\u001b[0;34m\u001b[0m\u001b[0;34m\u001b[0m\u001b[0m\n",
      "\u001b[0;32m~/anaconda3/envs/torch2/lib/python3.7/site-packages/ignite/engine/engine.py\u001b[0m in \u001b[0;36m_run_once_on_dataset\u001b[0;34m(self)\u001b[0m\n\u001b[1;32m    831\u001b[0m                 \u001b[0mself\u001b[0m\u001b[0;34m.\u001b[0m\u001b[0mstate\u001b[0m\u001b[0;34m.\u001b[0m\u001b[0miteration\u001b[0m \u001b[0;34m+=\u001b[0m \u001b[0;36m1\u001b[0m\u001b[0;34m\u001b[0m\u001b[0;34m\u001b[0m\u001b[0m\n\u001b[1;32m    832\u001b[0m                 \u001b[0mself\u001b[0m\u001b[0;34m.\u001b[0m\u001b[0m_fire_event\u001b[0m\u001b[0;34m(\u001b[0m\u001b[0mEvents\u001b[0m\u001b[0;34m.\u001b[0m\u001b[0mITERATION_STARTED\u001b[0m\u001b[0;34m)\u001b[0m\u001b[0;34m\u001b[0m\u001b[0;34m\u001b[0m\u001b[0m\n\u001b[0;32m--> 833\u001b[0;31m                 \u001b[0mself\u001b[0m\u001b[0;34m.\u001b[0m\u001b[0mstate\u001b[0m\u001b[0;34m.\u001b[0m\u001b[0moutput\u001b[0m \u001b[0;34m=\u001b[0m \u001b[0mself\u001b[0m\u001b[0;34m.\u001b[0m\u001b[0m_process_function\u001b[0m\u001b[0;34m(\u001b[0m\u001b[0mself\u001b[0m\u001b[0;34m,\u001b[0m \u001b[0mself\u001b[0m\u001b[0;34m.\u001b[0m\u001b[0mstate\u001b[0m\u001b[0;34m.\u001b[0m\u001b[0mbatch\u001b[0m\u001b[0;34m)\u001b[0m\u001b[0;34m\u001b[0m\u001b[0;34m\u001b[0m\u001b[0m\n\u001b[0m\u001b[1;32m    834\u001b[0m                 \u001b[0mself\u001b[0m\u001b[0;34m.\u001b[0m\u001b[0m_fire_event\u001b[0m\u001b[0;34m(\u001b[0m\u001b[0mEvents\u001b[0m\u001b[0;34m.\u001b[0m\u001b[0mITERATION_COMPLETED\u001b[0m\u001b[0;34m)\u001b[0m\u001b[0;34m\u001b[0m\u001b[0;34m\u001b[0m\u001b[0m\n\u001b[1;32m    835\u001b[0m \u001b[0;34m\u001b[0m\u001b[0m\n",
      "\u001b[0;32m~/anaconda3/envs/torch2/lib/python3.7/site-packages/ignite/engine/__init__.py\u001b[0m in \u001b[0;36m_update\u001b[0;34m(engine, batch)\u001b[0m\n\u001b[1;32m    102\u001b[0m         \u001b[0my_pred\u001b[0m \u001b[0;34m=\u001b[0m \u001b[0mmodel\u001b[0m\u001b[0;34m(\u001b[0m\u001b[0mx\u001b[0m\u001b[0;34m)\u001b[0m\u001b[0;34m\u001b[0m\u001b[0;34m\u001b[0m\u001b[0m\n\u001b[1;32m    103\u001b[0m         \u001b[0mloss\u001b[0m \u001b[0;34m=\u001b[0m \u001b[0mloss_fn\u001b[0m\u001b[0;34m(\u001b[0m\u001b[0my_pred\u001b[0m\u001b[0;34m,\u001b[0m \u001b[0my\u001b[0m\u001b[0;34m)\u001b[0m\u001b[0;34m\u001b[0m\u001b[0;34m\u001b[0m\u001b[0m\n\u001b[0;32m--> 104\u001b[0;31m         \u001b[0mloss\u001b[0m\u001b[0;34m.\u001b[0m\u001b[0mbackward\u001b[0m\u001b[0;34m(\u001b[0m\u001b[0;34m)\u001b[0m\u001b[0;34m\u001b[0m\u001b[0;34m\u001b[0m\u001b[0m\n\u001b[0m\u001b[1;32m    105\u001b[0m \u001b[0;34m\u001b[0m\u001b[0m\n\u001b[1;32m    106\u001b[0m         \u001b[0;32mif\u001b[0m \u001b[0mon_tpu\u001b[0m\u001b[0;34m:\u001b[0m\u001b[0;34m\u001b[0m\u001b[0;34m\u001b[0m\u001b[0m\n",
      "\u001b[0;32m~/anaconda3/envs/torch2/lib/python3.7/site-packages/torch/tensor.py\u001b[0m in \u001b[0;36mbackward\u001b[0;34m(self, gradient, retain_graph, create_graph)\u001b[0m\n\u001b[1;32m    219\u001b[0m                 \u001b[0mretain_graph\u001b[0m\u001b[0;34m=\u001b[0m\u001b[0mretain_graph\u001b[0m\u001b[0;34m,\u001b[0m\u001b[0;34m\u001b[0m\u001b[0;34m\u001b[0m\u001b[0m\n\u001b[1;32m    220\u001b[0m                 create_graph=create_graph)\n\u001b[0;32m--> 221\u001b[0;31m         \u001b[0mtorch\u001b[0m\u001b[0;34m.\u001b[0m\u001b[0mautograd\u001b[0m\u001b[0;34m.\u001b[0m\u001b[0mbackward\u001b[0m\u001b[0;34m(\u001b[0m\u001b[0mself\u001b[0m\u001b[0;34m,\u001b[0m \u001b[0mgradient\u001b[0m\u001b[0;34m,\u001b[0m \u001b[0mretain_graph\u001b[0m\u001b[0;34m,\u001b[0m \u001b[0mcreate_graph\u001b[0m\u001b[0;34m)\u001b[0m\u001b[0;34m\u001b[0m\u001b[0;34m\u001b[0m\u001b[0m\n\u001b[0m\u001b[1;32m    222\u001b[0m \u001b[0;34m\u001b[0m\u001b[0m\n\u001b[1;32m    223\u001b[0m     \u001b[0;32mdef\u001b[0m \u001b[0mregister_hook\u001b[0m\u001b[0;34m(\u001b[0m\u001b[0mself\u001b[0m\u001b[0;34m,\u001b[0m \u001b[0mhook\u001b[0m\u001b[0;34m)\u001b[0m\u001b[0;34m:\u001b[0m\u001b[0;34m\u001b[0m\u001b[0;34m\u001b[0m\u001b[0m\n",
      "\u001b[0;32m~/anaconda3/envs/torch2/lib/python3.7/site-packages/torch/autograd/__init__.py\u001b[0m in \u001b[0;36mbackward\u001b[0;34m(tensors, grad_tensors, retain_graph, create_graph, grad_variables)\u001b[0m\n\u001b[1;32m    130\u001b[0m     Variable._execution_engine.run_backward(\n\u001b[1;32m    131\u001b[0m         \u001b[0mtensors\u001b[0m\u001b[0;34m,\u001b[0m \u001b[0mgrad_tensors_\u001b[0m\u001b[0;34m,\u001b[0m \u001b[0mretain_graph\u001b[0m\u001b[0;34m,\u001b[0m \u001b[0mcreate_graph\u001b[0m\u001b[0;34m,\u001b[0m\u001b[0;34m\u001b[0m\u001b[0;34m\u001b[0m\u001b[0m\n\u001b[0;32m--> 132\u001b[0;31m         allow_unreachable=True)  # allow_unreachable flag\n\u001b[0m\u001b[1;32m    133\u001b[0m \u001b[0;34m\u001b[0m\u001b[0m\n\u001b[1;32m    134\u001b[0m \u001b[0;34m\u001b[0m\u001b[0m\n",
      "\u001b[0;31mKeyboardInterrupt\u001b[0m: "
     ]
    }
   ],
   "source": [
    "from ignite.engine import Events, create_supervised_trainer, create_supervised_evaluator\n",
    "from ignite.metrics import Accuracy, Loss\n",
    "net = Net()\n",
    "net.cuda()\n",
    "\n",
    "optimizer = torch.optim.SGD(net.parameters(), lr=10 ** -3)\n",
    "criterion = nn.CrossEntropyLoss()\n",
    "\n",
    "trainer = create_supervised_trainer(net, optimizer, criterion, device='cuda:0')\n",
    "\n",
    "evaluator = create_supervised_evaluator(net, device='cuda:0')\n",
    "\n",
    "@trainer.on(Events.ITERATION_COMPLETED(every=10000))\n",
    "def log_training_loss(trainer):\n",
    "    print(f\"Epoch[{trainer.state.epoch}] Loss: {trainer.state.output:.2f}\")\n",
    "\n",
    "\n",
    "@trainer.on(Events.EPOCH_COMPLETED)\n",
    "def log_validation_results(trainer):\n",
    "    net.eval()\n",
    "    tot = 0\n",
    "    correct = 0\n",
    "    with torch.no_grad():\n",
    "        for item in test_loader1:\n",
    "            ims = item[0].cuda()\n",
    "            labs = item[1].cuda()\n",
    "            preds = net(ims)\n",
    "            preds = torch.sigmoid(preds).cpu().detach().numpy()\n",
    "            right = preds.argmax(axis=1) == labs.cpu().detach().numpy()\n",
    "            tot += len(right)\n",
    "            correct += sum(right)\n",
    "\n",
    "    print(\"Epoch {} Validation Accuracy: {}%\".format(trainer.state.epoch, round(100 * correct / tot, 3)))\n",
    "    net.train()\n",
    "trainer.run(train_loader1, max_epochs=10)\n"
   ]
  },
  {
   "cell_type": "code",
   "execution_count": 10,
   "id": "capable-indication",
   "metadata": {},
   "outputs": [
    {
     "data": {
      "text/plain": [
       "<All keys matched successfully>"
      ]
     },
     "execution_count": 10,
     "metadata": {},
     "output_type": "execute_result"
    }
   ],
   "source": [
    "net2 = Net()\n",
    "net2.load_state_dict(net.state_dict())"
   ]
  },
  {
   "cell_type": "code",
   "execution_count": 150,
   "id": "continent-worry",
   "metadata": {},
   "outputs": [],
   "source": [
    "def get_fisher(net, tset):\n",
    "    net.eval()\n",
    "    lf = nn.CrossEntropyLoss()\n",
    "    sums = [np.zeros(tuple(param.shape)) for param in net.parameters()]\n",
    "    for pic, lab in tqdm(tset):\n",
    "        out = net(pic.cuda())\n",
    "        loss = lf(out, lab.cuda())\n",
    "        net.zero_grad()\n",
    "        loss.backward()\n",
    "        \n",
    "        for i, param in enumerate(net.parameters()):\n",
    "            sums[i] += param.grad.cpu().detach().numpy() ** 2\n",
    "    n = len(tset)\n",
    "    net.train()\n",
    "    return sums"
   ]
  },
  {
   "cell_type": "code",
   "execution_count": 151,
   "id": "amino-commodity",
   "metadata": {
    "scrolled": true
   },
   "outputs": [
    {
     "data": {
      "application/vnd.jupyter.widget-view+json": {
       "model_id": "40683bf6d6d348cdb6edc043d08b1845",
       "version_major": 2,
       "version_minor": 0
      },
      "text/plain": [
       "  0%|          | 0/60000 [00:00<?, ?it/s]"
      ]
     },
     "metadata": {},
     "output_type": "display_data"
    }
   ],
   "source": [
    "fisher = get_fisher(net, train_loader1)"
   ]
  },
  {
   "cell_type": "code",
   "execution_count": 154,
   "id": "trained-information",
   "metadata": {},
   "outputs": [
    {
     "data": {
      "text/plain": [
       "tensor([[0., 0., 0., 0., 0.],\n",
       "        [0., 0., 0., 0., 0.],\n",
       "        [0., 0., 0., 0., 0.],\n",
       "        [0., 0., 0., 0., 0.],\n",
       "        [0., 0., 0., 0., 0.]])"
      ]
     },
     "execution_count": 154,
     "metadata": {},
     "output_type": "execute_result"
    }
   ],
   "source": [
    "torch.zeros((5, 5))"
   ]
  },
  {
   "cell_type": "code",
   "execution_count": 149,
   "id": "amber-hopkins",
   "metadata": {},
   "outputs": [
    {
     "data": {
      "text/plain": [
       "array([2.98416710e-04, 2.25864234e-04, 9.90082760e-05, ...,\n",
       "       9.62385681e-03, 1.42198027e-02, 1.40491480e-02])"
      ]
     },
     "execution_count": 149,
     "metadata": {},
     "output_type": "execute_result"
    }
   ],
   "source": [
    "fisher"
   ]
  },
  {
   "cell_type": "code",
   "execution_count": 13,
   "id": "exact-financing",
   "metadata": {},
   "outputs": [],
   "source": [
    "class EWC(nn.Module):\n",
    "    def __init__(self, fisher, pweights, lam):\n",
    "        super(EWC, self).__init__()\n",
    "        self.fisher = torch.tensor(fisher)\n",
    "        self.pweights = torch.tensor(np.concatenate([param.cpu().detach().numpy().flatten() for param in pweights]))\n",
    "        self.n = len(self.fisher)\n",
    "        self.lam = lam\n",
    "        self.lf = nn.CrossEntropyLoss()\n",
    "    \n",
    "    def forward(self, outputs, labels, params):\n",
    "        weights = torch.tensor(np.concatenate([param.cpu().detach().numpy().flatten() for param in params]))\n",
    "        return self.lf(outputs, labels) + (self.lam / (2)) * (self.fisher * (weights - self.pweights) ** 2).sum()"
   ]
  },
  {
   "cell_type": "code",
   "execution_count": 120,
   "id": "connected-anderson",
   "metadata": {},
   "outputs": [
    {
     "data": {
      "text/plain": [
       "tensor(0.0011, device='cuda:0', grad_fn=<NormBackward1>)"
      ]
     },
     "execution_count": 120,
     "metadata": {},
     "output_type": "execute_result"
    }
   ],
   "source": [
    "(param1 - param2).norm(2)"
   ]
  },
  {
   "cell_type": "code",
   "execution_count": 148,
   "id": "alive-oasis",
   "metadata": {},
   "outputs": [
    {
     "data": {
      "text/plain": [
       "tensor([1.3001e-18], device='cuda:0', grad_fn=<CopyBackwards>)"
      ]
     },
     "execution_count": 148,
     "metadata": {},
     "output_type": "execute_result"
    }
   ],
   "source": [
    "Variable( torch.FloatTensor(1), requires_grad=True).to('cuda:0')"
   ]
  },
  {
   "cell_type": "code",
   "execution_count": 111,
   "id": "meaningful-outdoors",
   "metadata": {},
   "outputs": [
    {
     "name": "stdout",
     "output_type": "stream",
     "text": [
      "torch.Size([400, 784]) torch.Size([400, 784])\n",
      "tensor([-3046216.], device='cuda:0', grad_fn=<AddBackward0>)\n",
      "torch.Size([400]) torch.Size([400])\n",
      "tensor([-3046216.], device='cuda:0', grad_fn=<AddBackward0>)\n",
      "torch.Size([400, 400]) torch.Size([400, 400])\n",
      "tensor([-3046216.], device='cuda:0', grad_fn=<AddBackward0>)\n",
      "torch.Size([400]) torch.Size([400])\n",
      "tensor([-3046216.], device='cuda:0', grad_fn=<AddBackward0>)\n",
      "torch.Size([10, 400]) torch.Size([10, 400])\n",
      "tensor([-3046216.], device='cuda:0', grad_fn=<AddBackward0>)\n",
      "torch.Size([10]) torch.Size([10])\n",
      "tensor([-3046216.], device='cuda:0', grad_fn=<AddBackward0>)\n"
     ]
    }
   ],
   "source": [
    "reg = Variable( torch.FloatTensor(1), requires_grad=True).to('cuda:0')\n",
    "for param1, param2 in zip(net.parameters(), net2.parameters()):\n",
    "    print(param1.shape, param2.shape)\n",
    "    reg = reg + (param1 - param2).norm(2)\n",
    "    print(reg)"
   ]
  },
  {
   "cell_type": "code",
   "execution_count": 110,
   "id": "thousand-detection",
   "metadata": {},
   "outputs": [
    {
     "data": {
      "text/plain": [
       "tensor([0.0231], device='cuda:0', grad_fn=<AddBackward0>)"
      ]
     },
     "execution_count": 110,
     "metadata": {},
     "output_type": "execute_result"
    }
   ],
   "source": [
    "reg"
   ]
  },
  {
   "cell_type": "code",
   "execution_count": 14,
   "id": "accepting-equality",
   "metadata": {},
   "outputs": [
    {
     "name": "stdout",
     "output_type": "stream",
     "text": [
      "> \u001b[0;32m<ipython-input-14-95c39fd25402>\u001b[0m(20)\u001b[0;36m<module>\u001b[0;34m()\u001b[0m\n",
      "\u001b[0;32m     18 \u001b[0;31m        \u001b[0moutputs\u001b[0m \u001b[0;34m=\u001b[0m \u001b[0mnet2\u001b[0m\u001b[0;34m(\u001b[0m\u001b[0minputs\u001b[0m\u001b[0;34m)\u001b[0m\u001b[0;34m\u001b[0m\u001b[0;34m\u001b[0m\u001b[0m\n",
      "\u001b[0m\u001b[0;32m     19 \u001b[0;31m        \u001b[0mpdb\u001b[0m\u001b[0;34m.\u001b[0m\u001b[0mset_trace\u001b[0m\u001b[0;34m(\u001b[0m\u001b[0;34m)\u001b[0m\u001b[0;34m\u001b[0m\u001b[0;34m\u001b[0m\u001b[0m\n",
      "\u001b[0m\u001b[0;32m---> 20 \u001b[0;31m        \u001b[0mloss\u001b[0m \u001b[0;34m=\u001b[0m \u001b[0mcriterion\u001b[0m\u001b[0;34m(\u001b[0m\u001b[0moutputs\u001b[0m\u001b[0;34m,\u001b[0m \u001b[0mlabels\u001b[0m\u001b[0;34m,\u001b[0m \u001b[0mnet2\u001b[0m\u001b[0;34m.\u001b[0m\u001b[0mparameters\u001b[0m\u001b[0;34m(\u001b[0m\u001b[0;34m)\u001b[0m\u001b[0;34m)\u001b[0m\u001b[0;34m\u001b[0m\u001b[0;34m\u001b[0m\u001b[0m\n",
      "\u001b[0m\u001b[0;32m     21 \u001b[0;31m        \u001b[0mrl\u001b[0m \u001b[0;34m+=\u001b[0m \u001b[0mloss\u001b[0m\u001b[0;34m.\u001b[0m\u001b[0mitem\u001b[0m\u001b[0;34m(\u001b[0m\u001b[0;34m)\u001b[0m\u001b[0;34m\u001b[0m\u001b[0;34m\u001b[0m\u001b[0m\n",
      "\u001b[0m\u001b[0;32m     22 \u001b[0;31m        \u001b[0mloss\u001b[0m\u001b[0;34m.\u001b[0m\u001b[0mbackward\u001b[0m\u001b[0;34m(\u001b[0m\u001b[0;34m)\u001b[0m\u001b[0;34m\u001b[0m\u001b[0;34m\u001b[0m\u001b[0m\n",
      "\u001b[0m\n",
      "ipdb> outputs\n",
      "tensor([[ 0.3418,  0.0343, -0.3148,  0.5553, -1.2397,  1.9939, -0.6209,  0.1416,\n",
      "         -0.2269, -0.6056]], device='cuda:0', grad_fn=<AddmmBackward>)\n",
      "ipdb> inputs\n",
      "tensor([[[[0.0000, 0.0000, 0.0000, 0.0000, 0.0000, 0.0000, 0.0000, 0.0000,\n",
      "           0.0000, 0.0000, 0.0000, 0.0000, 0.0000, 0.0000, 0.0000, 0.0000,\n",
      "           0.9294, 0.0000, 0.0000, 0.0000, 0.0000, 0.0000, 0.0000, 0.0000,\n",
      "           0.0000, 0.0000, 0.0000, 0.0000],\n",
      "          [0.0000, 0.0000, 0.0000, 0.0000, 0.0000, 0.0000, 0.9294, 0.8157,\n",
      "           0.0000, 0.0000, 0.0000, 0.0000, 0.0000, 0.0000, 0.0000, 0.0000,\n",
      "           0.0000, 0.0000, 0.0000, 0.9765, 0.7569, 0.0000, 0.0000, 0.0000,\n",
      "           0.0000, 0.0000, 0.0000, 0.1020],\n",
      "          [0.0000, 0.9922, 0.0000, 0.9922, 0.0000, 0.0000, 0.0000, 0.0000,\n",
      "           0.9882, 0.8039, 0.0000, 0.0000, 0.0000, 0.9529, 0.0000, 0.0000,\n",
      "           0.0000, 0.0000, 0.0000, 0.0000, 0.0000, 0.0000, 0.0000, 0.0000,\n",
      "           0.0000, 0.0000, 0.0000, 0.0000],\n",
      "          [0.0000, 0.0000, 0.0000, 0.0000, 0.0000, 0.0000, 0.0000, 0.0000,\n",
      "           0.0000, 0.0000, 0.0000, 0.0000, 0.0000, 0.0000, 0.0000, 0.0000,\n",
      "           0.0000, 0.0000, 0.0000, 0.0000, 0.0000, 0.0000, 0.0000, 0.0000,\n",
      "           0.0000, 0.0000, 0.0000, 0.0000],\n",
      "          [0.0000, 0.9882, 0.0000, 0.0000, 0.0000, 0.0000, 0.0000, 0.0000,\n",
      "           0.0000, 0.0000, 0.0000, 0.0000, 0.0000, 0.0000, 0.0000, 0.0000,\n",
      "           0.0000, 0.0000, 0.0000, 0.9608, 0.0000, 0.9922, 0.0000, 0.0000,\n",
      "           0.0000, 0.0000, 0.0000, 0.0000],\n",
      "          [0.0000, 0.6314, 0.0000, 0.0000, 0.0000, 0.0000, 0.0000, 0.0000,\n",
      "           0.0000, 0.0000, 0.0000, 0.0000, 0.0000, 0.0000, 0.0000, 0.0000,\n",
      "           0.0000, 0.0000, 0.0000, 0.0000, 0.0000, 0.0000, 0.0000, 0.0000,\n",
      "           0.0000, 0.0000, 0.0000, 0.0000],\n",
      "          [0.0000, 0.0000, 0.0000, 0.0000, 0.0000, 0.0000, 0.6039, 0.0000,\n",
      "           0.0000, 0.0000, 0.0000, 0.0000, 0.0000, 0.0000, 0.0000, 0.0000,\n",
      "           0.0000, 0.0000, 0.0000, 0.0000, 0.0000, 0.0000, 0.0000, 0.0000,\n",
      "           0.8157, 0.0000, 0.0000, 0.0000],\n",
      "          [0.0000, 0.0000, 0.0000, 0.0000, 0.0000, 0.0000, 0.0000, 0.0000,\n",
      "           0.0000, 0.0000, 0.9451, 0.0000, 0.0000, 0.0000, 0.0000, 0.0235,\n",
      "           0.0000, 0.0000, 0.0000, 0.0000, 0.0000, 0.0000, 0.0000, 0.0000,\n",
      "           0.0000, 0.0000, 0.0000, 0.0000],\n",
      "          [0.0000, 0.0000, 0.0000, 0.0000, 0.0000, 0.0000, 0.6392, 0.0000,\n",
      "           0.5176, 0.0000, 0.0000, 0.0000, 0.0000, 0.0000, 0.0000, 0.0000,\n",
      "           0.0000, 0.0000, 0.0000, 0.9882, 0.0000, 0.0000, 0.0000, 0.0000,\n",
      "           0.0000, 0.0000, 0.0000, 0.0000],\n",
      "          [0.9686, 0.0000, 0.0000, 0.0000, 0.0000, 0.0000, 0.0000, 0.0000,\n",
      "           0.0000, 0.0000, 0.0000, 0.0000, 0.0000, 0.0000, 0.0000, 0.0000,\n",
      "           0.0000, 0.0000, 0.0000, 0.0000, 0.0000, 0.0000, 0.0000, 0.0000,\n",
      "           0.0000, 0.0000, 0.0000, 0.0000],\n",
      "          [0.0000, 0.0000, 0.0000, 0.0000, 0.0000, 0.0000, 0.0000, 0.0000,\n",
      "           0.0431, 0.0000, 0.0000, 0.0000, 0.0000, 0.0000, 0.0000, 0.0000,\n",
      "           0.0000, 0.0000, 0.0000, 0.0000, 0.0000, 0.0000, 0.0000, 0.0000,\n",
      "           0.0000, 0.0000, 0.0000, 0.0000],\n",
      "          [0.0000, 0.0000, 0.0000, 0.0000, 0.0000, 0.0000, 0.0000, 0.0000,\n",
      "           0.0000, 0.0000, 0.0000, 0.0000, 0.0000, 0.0000, 0.0000, 0.0000,\n",
      "           0.0000, 0.0000, 0.0000, 0.0000, 0.6784, 0.0000, 0.0000, 0.0000,\n",
      "           0.0000, 0.0000, 0.1725, 0.0000],\n",
      "          [0.0000, 0.0000, 0.0000, 0.0000, 0.0000, 0.0000, 0.0000, 0.0000,\n",
      "           0.0000, 0.0000, 0.0000, 0.0000, 0.3725, 0.0000, 0.0471, 0.0000,\n",
      "           0.0000, 0.0000, 0.0000, 0.0000, 0.0000, 0.7490, 0.0000, 0.9922,\n",
      "           0.0000, 0.0000, 0.1216, 0.0000],\n",
      "          [0.0000, 0.9608, 0.0000, 0.0000, 0.0000, 0.8549, 0.0000, 0.0000,\n",
      "           0.0000, 0.0000, 0.0000, 0.0000, 0.0000, 0.0000, 0.0000, 0.0000,\n",
      "           0.0000, 0.0000, 0.0000, 0.0000, 0.0000, 0.0000, 0.0000, 0.0000,\n",
      "           0.9882, 0.0000, 0.0000, 0.0000],\n",
      "          [0.7098, 0.0000, 0.0000, 0.0000, 0.0000, 0.6431, 0.0000, 0.0000,\n",
      "           0.0000, 0.0000, 0.0000, 0.0000, 0.0000, 0.0000, 0.0000, 0.0000,\n",
      "           0.0000, 0.0000, 0.0000, 0.0000, 0.0000, 0.1843, 0.0000, 0.0000,\n",
      "           0.0000, 0.0000, 0.0000, 0.0000],\n",
      "          [0.0000, 0.0000, 0.0000, 0.0000, 0.0000, 0.0000, 0.0000, 0.0000,\n",
      "           0.0000, 0.0000, 0.0000, 0.0000, 0.0000, 0.0000, 0.0000, 0.0000,\n",
      "           0.0000, 0.0000, 0.0000, 0.0000, 0.0000, 0.0000, 0.0000, 0.0000,\n",
      "           0.0000, 0.0000, 0.0000, 0.0000],\n",
      "          [0.0000, 0.0000, 0.0000, 0.0000, 0.0000, 0.0000, 0.1137, 0.0000,\n",
      "           0.0000, 0.0000, 0.0000, 0.0000, 0.0000, 0.0000, 0.0000, 0.0000,\n",
      "           0.0000, 0.0000, 0.0000, 0.0000, 0.0000, 0.0000, 0.0000, 0.0000,\n",
      "           0.4275, 0.0000, 0.0000, 0.0000],\n",
      "          [0.0000, 0.5373, 0.0000, 0.0000, 0.0000, 0.0000, 0.0000, 0.0000,\n",
      "           0.0000, 0.0000, 0.0000, 0.0000, 0.0000, 0.0000, 0.0000, 0.0000,\n",
      "           0.0000, 0.0000, 0.0000, 0.0000, 0.0000, 0.0000, 0.0000, 0.9294,\n",
      "           0.0000, 0.9882, 0.1765, 0.0000],\n",
      "          [0.2627, 0.0000, 0.0000, 0.0000, 0.0000, 0.3098, 0.9255, 0.0000,\n",
      "           0.0000, 0.0000, 0.0000, 0.0000, 0.0000, 0.1059, 0.0000, 0.0000,\n",
      "           0.0000, 0.0000, 0.0000, 0.0000, 0.0000, 0.0000, 0.0000, 0.0000,\n",
      "           0.0000, 0.0000, 0.0000, 0.0000],\n",
      "          [0.0000, 0.0000, 0.0000, 0.0000, 0.0000, 0.0000, 0.0000, 0.0000,\n",
      "           0.0000, 0.0000, 0.0000, 0.0000, 0.0000, 0.0000, 0.0000, 0.0000,\n",
      "           0.0000, 0.0000, 0.0000, 0.0000, 0.0000, 0.0000, 0.0000, 0.0000,\n",
      "           0.6745, 0.0000, 0.0000, 0.0000],\n",
      "          [0.0000, 0.0000, 0.0000, 0.0000, 0.0000, 0.0000, 0.0000, 0.0000,\n",
      "           0.0000, 0.0000, 0.0000, 0.0000, 0.0000, 0.0000, 0.0000, 0.0000,\n",
      "           0.0000, 0.0000, 0.0000, 0.0000, 0.3294, 0.0000, 0.0000, 0.0000,\n",
      "           0.0000, 0.0000, 0.0000, 0.0000],\n",
      "          [0.0000, 0.0000, 0.0000, 0.0000, 0.0000, 0.9255, 0.0000, 0.0000,\n",
      "           0.0000, 0.0000, 0.0000, 0.0000, 0.0000, 0.0000, 0.0000, 0.0000,\n",
      "           0.0000, 0.0000, 0.0000, 0.0000, 0.0000, 0.0000, 0.0000, 0.0000,\n",
      "           0.0000, 0.0000, 0.0000, 0.0000],\n",
      "          [0.0000, 0.0000, 0.9922, 0.0000, 0.0000, 0.0000, 0.0000, 0.0000,\n",
      "           0.0000, 0.0000, 0.0000, 0.0000, 1.0000, 0.0000, 0.0000, 0.0000,\n",
      "           0.0000, 0.0000, 0.0000, 0.0000, 0.0000, 0.0000, 0.0000, 0.0000,\n",
      "           0.0000, 0.0000, 0.0000, 0.0000],\n",
      "          [0.1725, 0.0000, 0.1725, 0.0000, 0.0000, 0.0000, 0.3882, 0.2078,\n",
      "           0.0000, 0.0000, 0.0000, 0.0000, 0.0000, 0.0000, 0.0000, 0.0000,\n",
      "           0.9882, 0.0000, 0.0000, 0.0000, 0.0000, 0.0000, 0.0000, 0.0000,\n",
      "           0.0000, 0.0000, 0.0000, 0.0235],\n",
      "          [0.0000, 0.0000, 0.0000, 0.0000, 0.0000, 0.0000, 0.0000, 0.0000,\n",
      "           0.0000, 0.1098, 0.0000, 0.0000, 0.0000, 0.0000, 0.0000, 0.0000,\n",
      "           0.0000, 0.0000, 0.0000, 0.0000, 0.0000, 0.0588, 0.0000, 0.0000,\n",
      "           0.4157, 0.0000, 0.0000, 0.0000],\n",
      "          [0.0000, 0.0000, 0.0000, 0.0000, 0.0000, 0.0000, 0.0000, 0.0000,\n",
      "           0.0000, 0.0000, 0.0000, 0.0000, 0.0000, 0.0000, 0.0000, 0.0000,\n",
      "           0.0000, 0.0000, 0.0000, 0.0000, 0.0000, 0.0000, 0.0000, 0.0000,\n",
      "           0.0000, 0.0000, 0.0000, 0.0000],\n",
      "          [0.0000, 0.0000, 0.0000, 0.0000, 0.0000, 0.0000, 0.0000, 0.0000,\n",
      "           0.0000, 0.0000, 0.0000, 0.5843, 0.0000, 0.0000, 0.0000, 0.0000,\n",
      "           0.0000, 0.0000, 0.5843, 0.0000, 0.0000, 0.0000, 0.0000, 0.0000,\n",
      "           0.0000, 0.0000, 0.0000, 0.6549],\n",
      "          [0.0000, 0.0000, 0.0000, 0.3529, 0.0000, 0.0000, 0.0000, 0.0000,\n",
      "           0.0000, 0.1725, 0.0000, 0.0000, 0.0000, 0.9882, 0.0000, 0.0000,\n",
      "           0.0000, 0.0000, 0.0000, 0.0000, 0.0000, 0.0000, 0.0000, 0.0000,\n",
      "           0.0000, 0.0000, 0.0000, 0.0000]]]], device='cuda:0',\n",
      "       dtype=torch.float64)\n"
     ]
    },
    {
     "name": "stdout",
     "output_type": "stream",
     "text": [
      "--KeyboardInterrupt--\n",
      "\n",
      "KeyboardInterrupt: Interrupted by user\n"
     ]
    },
    {
     "ename": "FileNotFoundError",
     "evalue": "[Errno 2] No such file or directory",
     "output_type": "error",
     "traceback": [
      "\u001b[0;31m---------------------------------------------------------------------------\u001b[0m",
      "\u001b[0;31mFileNotFoundError\u001b[0m                         Traceback (most recent call last)",
      "\u001b[0;32m<ipython-input-14-95c39fd25402>\u001b[0m in \u001b[0;36m<module>\u001b[0;34m\u001b[0m\n\u001b[1;32m     18\u001b[0m         \u001b[0moutputs\u001b[0m \u001b[0;34m=\u001b[0m \u001b[0mnet2\u001b[0m\u001b[0;34m(\u001b[0m\u001b[0minputs\u001b[0m\u001b[0;34m)\u001b[0m\u001b[0;34m\u001b[0m\u001b[0;34m\u001b[0m\u001b[0m\n\u001b[1;32m     19\u001b[0m         \u001b[0mpdb\u001b[0m\u001b[0;34m.\u001b[0m\u001b[0mset_trace\u001b[0m\u001b[0;34m(\u001b[0m\u001b[0;34m)\u001b[0m\u001b[0;34m\u001b[0m\u001b[0;34m\u001b[0m\u001b[0m\n\u001b[0;32m---> 20\u001b[0;31m         \u001b[0mloss\u001b[0m \u001b[0;34m=\u001b[0m \u001b[0mcriterion\u001b[0m\u001b[0;34m(\u001b[0m\u001b[0moutputs\u001b[0m\u001b[0;34m,\u001b[0m \u001b[0mlabels\u001b[0m\u001b[0;34m,\u001b[0m \u001b[0mnet2\u001b[0m\u001b[0;34m.\u001b[0m\u001b[0mparameters\u001b[0m\u001b[0;34m(\u001b[0m\u001b[0;34m)\u001b[0m\u001b[0;34m)\u001b[0m\u001b[0;34m\u001b[0m\u001b[0;34m\u001b[0m\u001b[0m\n\u001b[0m\u001b[1;32m     21\u001b[0m         \u001b[0mrl\u001b[0m \u001b[0;34m+=\u001b[0m \u001b[0mloss\u001b[0m\u001b[0;34m.\u001b[0m\u001b[0mitem\u001b[0m\u001b[0;34m(\u001b[0m\u001b[0;34m)\u001b[0m\u001b[0;34m\u001b[0m\u001b[0;34m\u001b[0m\u001b[0m\n\u001b[1;32m     22\u001b[0m         \u001b[0mloss\u001b[0m\u001b[0;34m.\u001b[0m\u001b[0mbackward\u001b[0m\u001b[0;34m(\u001b[0m\u001b[0;34m)\u001b[0m\u001b[0;34m\u001b[0m\u001b[0;34m\u001b[0m\u001b[0m\n",
      "\u001b[0;32m~/anaconda3/envs/torch2/lib/python3.7/site-packages/torch/utils/data/dataloader.py\u001b[0m in \u001b[0;36m__next__\u001b[0;34m(self)\u001b[0m\n\u001b[1;32m    433\u001b[0m         \u001b[0;32mif\u001b[0m \u001b[0mself\u001b[0m\u001b[0;34m.\u001b[0m\u001b[0m_sampler_iter\u001b[0m \u001b[0;32mis\u001b[0m \u001b[0;32mNone\u001b[0m\u001b[0;34m:\u001b[0m\u001b[0;34m\u001b[0m\u001b[0;34m\u001b[0m\u001b[0m\n\u001b[1;32m    434\u001b[0m             \u001b[0mself\u001b[0m\u001b[0;34m.\u001b[0m\u001b[0m_reset\u001b[0m\u001b[0;34m(\u001b[0m\u001b[0;34m)\u001b[0m\u001b[0;34m\u001b[0m\u001b[0;34m\u001b[0m\u001b[0m\n\u001b[0;32m--> 435\u001b[0;31m         \u001b[0mdata\u001b[0m \u001b[0;34m=\u001b[0m \u001b[0mself\u001b[0m\u001b[0;34m.\u001b[0m\u001b[0m_next_data\u001b[0m\u001b[0;34m(\u001b[0m\u001b[0;34m)\u001b[0m\u001b[0;34m\u001b[0m\u001b[0;34m\u001b[0m\u001b[0m\n\u001b[0m\u001b[1;32m    436\u001b[0m         \u001b[0mself\u001b[0m\u001b[0;34m.\u001b[0m\u001b[0m_num_yielded\u001b[0m \u001b[0;34m+=\u001b[0m \u001b[0;36m1\u001b[0m\u001b[0;34m\u001b[0m\u001b[0;34m\u001b[0m\u001b[0m\n\u001b[1;32m    437\u001b[0m         \u001b[0;32mif\u001b[0m \u001b[0mself\u001b[0m\u001b[0;34m.\u001b[0m\u001b[0m_dataset_kind\u001b[0m \u001b[0;34m==\u001b[0m \u001b[0m_DatasetKind\u001b[0m\u001b[0;34m.\u001b[0m\u001b[0mIterable\u001b[0m \u001b[0;32mand\u001b[0m\u001b[0;31m \u001b[0m\u001b[0;31m\\\u001b[0m\u001b[0;34m\u001b[0m\u001b[0;34m\u001b[0m\u001b[0m\n",
      "\u001b[0;32m~/anaconda3/envs/torch2/lib/python3.7/site-packages/torch/utils/data/dataloader.py\u001b[0m in \u001b[0;36m_next_data\u001b[0;34m(self)\u001b[0m\n\u001b[1;32m   1066\u001b[0m \u001b[0;34m\u001b[0m\u001b[0m\n\u001b[1;32m   1067\u001b[0m             \u001b[0;32massert\u001b[0m \u001b[0;32mnot\u001b[0m \u001b[0mself\u001b[0m\u001b[0;34m.\u001b[0m\u001b[0m_shutdown\u001b[0m \u001b[0;32mand\u001b[0m \u001b[0mself\u001b[0m\u001b[0;34m.\u001b[0m\u001b[0m_tasks_outstanding\u001b[0m \u001b[0;34m>\u001b[0m \u001b[0;36m0\u001b[0m\u001b[0;34m\u001b[0m\u001b[0;34m\u001b[0m\u001b[0m\n\u001b[0;32m-> 1068\u001b[0;31m             \u001b[0midx\u001b[0m\u001b[0;34m,\u001b[0m \u001b[0mdata\u001b[0m \u001b[0;34m=\u001b[0m \u001b[0mself\u001b[0m\u001b[0;34m.\u001b[0m\u001b[0m_get_data\u001b[0m\u001b[0;34m(\u001b[0m\u001b[0;34m)\u001b[0m\u001b[0;34m\u001b[0m\u001b[0;34m\u001b[0m\u001b[0m\n\u001b[0m\u001b[1;32m   1069\u001b[0m             \u001b[0mself\u001b[0m\u001b[0;34m.\u001b[0m\u001b[0m_tasks_outstanding\u001b[0m \u001b[0;34m-=\u001b[0m \u001b[0;36m1\u001b[0m\u001b[0;34m\u001b[0m\u001b[0;34m\u001b[0m\u001b[0m\n\u001b[1;32m   1070\u001b[0m             \u001b[0;32mif\u001b[0m \u001b[0mself\u001b[0m\u001b[0;34m.\u001b[0m\u001b[0m_dataset_kind\u001b[0m \u001b[0;34m==\u001b[0m \u001b[0m_DatasetKind\u001b[0m\u001b[0;34m.\u001b[0m\u001b[0mIterable\u001b[0m\u001b[0;34m:\u001b[0m\u001b[0;34m\u001b[0m\u001b[0;34m\u001b[0m\u001b[0m\n",
      "\u001b[0;32m~/anaconda3/envs/torch2/lib/python3.7/site-packages/torch/utils/data/dataloader.py\u001b[0m in \u001b[0;36m_get_data\u001b[0;34m(self)\u001b[0m\n\u001b[1;32m   1032\u001b[0m         \u001b[0;32melse\u001b[0m\u001b[0;34m:\u001b[0m\u001b[0;34m\u001b[0m\u001b[0;34m\u001b[0m\u001b[0m\n\u001b[1;32m   1033\u001b[0m             \u001b[0;32mwhile\u001b[0m \u001b[0;32mTrue\u001b[0m\u001b[0;34m:\u001b[0m\u001b[0;34m\u001b[0m\u001b[0;34m\u001b[0m\u001b[0m\n\u001b[0;32m-> 1034\u001b[0;31m                 \u001b[0msuccess\u001b[0m\u001b[0;34m,\u001b[0m \u001b[0mdata\u001b[0m \u001b[0;34m=\u001b[0m \u001b[0mself\u001b[0m\u001b[0;34m.\u001b[0m\u001b[0m_try_get_data\u001b[0m\u001b[0;34m(\u001b[0m\u001b[0;34m)\u001b[0m\u001b[0;34m\u001b[0m\u001b[0;34m\u001b[0m\u001b[0m\n\u001b[0m\u001b[1;32m   1035\u001b[0m                 \u001b[0;32mif\u001b[0m \u001b[0msuccess\u001b[0m\u001b[0;34m:\u001b[0m\u001b[0;34m\u001b[0m\u001b[0;34m\u001b[0m\u001b[0m\n\u001b[1;32m   1036\u001b[0m                     \u001b[0;32mreturn\u001b[0m \u001b[0mdata\u001b[0m\u001b[0;34m\u001b[0m\u001b[0;34m\u001b[0m\u001b[0m\n",
      "\u001b[0;32m~/anaconda3/envs/torch2/lib/python3.7/site-packages/torch/utils/data/dataloader.py\u001b[0m in \u001b[0;36m_try_get_data\u001b[0;34m(self, timeout)\u001b[0m\n\u001b[1;32m    870\u001b[0m         \u001b[0;31m#   (bool: whether successfully get data, any: data if successful else None)\u001b[0m\u001b[0;34m\u001b[0m\u001b[0;34m\u001b[0m\u001b[0;34m\u001b[0m\u001b[0m\n\u001b[1;32m    871\u001b[0m         \u001b[0;32mtry\u001b[0m\u001b[0;34m:\u001b[0m\u001b[0;34m\u001b[0m\u001b[0;34m\u001b[0m\u001b[0m\n\u001b[0;32m--> 872\u001b[0;31m             \u001b[0mdata\u001b[0m \u001b[0;34m=\u001b[0m \u001b[0mself\u001b[0m\u001b[0;34m.\u001b[0m\u001b[0m_data_queue\u001b[0m\u001b[0;34m.\u001b[0m\u001b[0mget\u001b[0m\u001b[0;34m(\u001b[0m\u001b[0mtimeout\u001b[0m\u001b[0;34m=\u001b[0m\u001b[0mtimeout\u001b[0m\u001b[0;34m)\u001b[0m\u001b[0;34m\u001b[0m\u001b[0;34m\u001b[0m\u001b[0m\n\u001b[0m\u001b[1;32m    873\u001b[0m             \u001b[0;32mreturn\u001b[0m \u001b[0;34m(\u001b[0m\u001b[0;32mTrue\u001b[0m\u001b[0;34m,\u001b[0m \u001b[0mdata\u001b[0m\u001b[0;34m)\u001b[0m\u001b[0;34m\u001b[0m\u001b[0;34m\u001b[0m\u001b[0m\n\u001b[1;32m    874\u001b[0m         \u001b[0;32mexcept\u001b[0m \u001b[0mException\u001b[0m \u001b[0;32mas\u001b[0m \u001b[0me\u001b[0m\u001b[0;34m:\u001b[0m\u001b[0;34m\u001b[0m\u001b[0;34m\u001b[0m\u001b[0m\n",
      "\u001b[0;32m~/anaconda3/envs/torch2/lib/python3.7/multiprocessing/queues.py\u001b[0m in \u001b[0;36mget\u001b[0;34m(self, block, timeout)\u001b[0m\n\u001b[1;32m    111\u001b[0m                 \u001b[0mself\u001b[0m\u001b[0;34m.\u001b[0m\u001b[0m_rlock\u001b[0m\u001b[0;34m.\u001b[0m\u001b[0mrelease\u001b[0m\u001b[0;34m(\u001b[0m\u001b[0;34m)\u001b[0m\u001b[0;34m\u001b[0m\u001b[0;34m\u001b[0m\u001b[0m\n\u001b[1;32m    112\u001b[0m         \u001b[0;31m# unserialize the data after having released the lock\u001b[0m\u001b[0;34m\u001b[0m\u001b[0;34m\u001b[0m\u001b[0;34m\u001b[0m\u001b[0m\n\u001b[0;32m--> 113\u001b[0;31m         \u001b[0;32mreturn\u001b[0m \u001b[0m_ForkingPickler\u001b[0m\u001b[0;34m.\u001b[0m\u001b[0mloads\u001b[0m\u001b[0;34m(\u001b[0m\u001b[0mres\u001b[0m\u001b[0;34m)\u001b[0m\u001b[0;34m\u001b[0m\u001b[0;34m\u001b[0m\u001b[0m\n\u001b[0m\u001b[1;32m    114\u001b[0m \u001b[0;34m\u001b[0m\u001b[0m\n\u001b[1;32m    115\u001b[0m     \u001b[0;32mdef\u001b[0m \u001b[0mqsize\u001b[0m\u001b[0;34m(\u001b[0m\u001b[0mself\u001b[0m\u001b[0;34m)\u001b[0m\u001b[0;34m:\u001b[0m\u001b[0;34m\u001b[0m\u001b[0;34m\u001b[0m\u001b[0m\n",
      "\u001b[0;32m~/anaconda3/envs/torch2/lib/python3.7/site-packages/torch/multiprocessing/reductions.py\u001b[0m in \u001b[0;36mrebuild_storage_fd\u001b[0;34m(cls, df, size)\u001b[0m\n\u001b[1;32m    280\u001b[0m \u001b[0;34m\u001b[0m\u001b[0m\n\u001b[1;32m    281\u001b[0m \u001b[0;32mdef\u001b[0m \u001b[0mrebuild_storage_fd\u001b[0m\u001b[0;34m(\u001b[0m\u001b[0mcls\u001b[0m\u001b[0;34m,\u001b[0m \u001b[0mdf\u001b[0m\u001b[0;34m,\u001b[0m \u001b[0msize\u001b[0m\u001b[0;34m)\u001b[0m\u001b[0;34m:\u001b[0m\u001b[0;34m\u001b[0m\u001b[0;34m\u001b[0m\u001b[0m\n\u001b[0;32m--> 282\u001b[0;31m     \u001b[0mfd\u001b[0m \u001b[0;34m=\u001b[0m \u001b[0mdf\u001b[0m\u001b[0;34m.\u001b[0m\u001b[0mdetach\u001b[0m\u001b[0;34m(\u001b[0m\u001b[0;34m)\u001b[0m\u001b[0;34m\u001b[0m\u001b[0;34m\u001b[0m\u001b[0m\n\u001b[0m\u001b[1;32m    283\u001b[0m     \u001b[0;32mtry\u001b[0m\u001b[0;34m:\u001b[0m\u001b[0;34m\u001b[0m\u001b[0;34m\u001b[0m\u001b[0m\n\u001b[1;32m    284\u001b[0m         \u001b[0mstorage\u001b[0m \u001b[0;34m=\u001b[0m \u001b[0mstorage_from_cache\u001b[0m\u001b[0;34m(\u001b[0m\u001b[0mcls\u001b[0m\u001b[0;34m,\u001b[0m \u001b[0mfd_id\u001b[0m\u001b[0;34m(\u001b[0m\u001b[0mfd\u001b[0m\u001b[0;34m)\u001b[0m\u001b[0;34m)\u001b[0m\u001b[0;34m\u001b[0m\u001b[0;34m\u001b[0m\u001b[0m\n",
      "\u001b[0;32m~/anaconda3/envs/torch2/lib/python3.7/multiprocessing/resource_sharer.py\u001b[0m in \u001b[0;36mdetach\u001b[0;34m(self)\u001b[0m\n\u001b[1;32m     55\u001b[0m         \u001b[0;32mdef\u001b[0m \u001b[0mdetach\u001b[0m\u001b[0;34m(\u001b[0m\u001b[0mself\u001b[0m\u001b[0;34m)\u001b[0m\u001b[0;34m:\u001b[0m\u001b[0;34m\u001b[0m\u001b[0;34m\u001b[0m\u001b[0m\n\u001b[1;32m     56\u001b[0m             \u001b[0;34m'''Get the fd.  This should only be called once.'''\u001b[0m\u001b[0;34m\u001b[0m\u001b[0;34m\u001b[0m\u001b[0m\n\u001b[0;32m---> 57\u001b[0;31m             \u001b[0;32mwith\u001b[0m \u001b[0m_resource_sharer\u001b[0m\u001b[0;34m.\u001b[0m\u001b[0mget_connection\u001b[0m\u001b[0;34m(\u001b[0m\u001b[0mself\u001b[0m\u001b[0;34m.\u001b[0m\u001b[0m_id\u001b[0m\u001b[0;34m)\u001b[0m \u001b[0;32mas\u001b[0m \u001b[0mconn\u001b[0m\u001b[0;34m:\u001b[0m\u001b[0;34m\u001b[0m\u001b[0;34m\u001b[0m\u001b[0m\n\u001b[0m\u001b[1;32m     58\u001b[0m                 \u001b[0;32mreturn\u001b[0m \u001b[0mreduction\u001b[0m\u001b[0;34m.\u001b[0m\u001b[0mrecv_handle\u001b[0m\u001b[0;34m(\u001b[0m\u001b[0mconn\u001b[0m\u001b[0;34m)\u001b[0m\u001b[0;34m\u001b[0m\u001b[0;34m\u001b[0m\u001b[0m\n\u001b[1;32m     59\u001b[0m \u001b[0;34m\u001b[0m\u001b[0m\n",
      "\u001b[0;32m~/anaconda3/envs/torch2/lib/python3.7/multiprocessing/resource_sharer.py\u001b[0m in \u001b[0;36mget_connection\u001b[0;34m(ident)\u001b[0m\n\u001b[1;32m     85\u001b[0m         \u001b[0;32mfrom\u001b[0m \u001b[0;34m.\u001b[0m\u001b[0mconnection\u001b[0m \u001b[0;32mimport\u001b[0m \u001b[0mClient\u001b[0m\u001b[0;34m\u001b[0m\u001b[0;34m\u001b[0m\u001b[0m\n\u001b[1;32m     86\u001b[0m         \u001b[0maddress\u001b[0m\u001b[0;34m,\u001b[0m \u001b[0mkey\u001b[0m \u001b[0;34m=\u001b[0m \u001b[0mident\u001b[0m\u001b[0;34m\u001b[0m\u001b[0;34m\u001b[0m\u001b[0m\n\u001b[0;32m---> 87\u001b[0;31m         \u001b[0mc\u001b[0m \u001b[0;34m=\u001b[0m \u001b[0mClient\u001b[0m\u001b[0;34m(\u001b[0m\u001b[0maddress\u001b[0m\u001b[0;34m,\u001b[0m \u001b[0mauthkey\u001b[0m\u001b[0;34m=\u001b[0m\u001b[0mprocess\u001b[0m\u001b[0;34m.\u001b[0m\u001b[0mcurrent_process\u001b[0m\u001b[0;34m(\u001b[0m\u001b[0;34m)\u001b[0m\u001b[0;34m.\u001b[0m\u001b[0mauthkey\u001b[0m\u001b[0;34m)\u001b[0m\u001b[0;34m\u001b[0m\u001b[0;34m\u001b[0m\u001b[0m\n\u001b[0m\u001b[1;32m     88\u001b[0m         \u001b[0mc\u001b[0m\u001b[0;34m.\u001b[0m\u001b[0msend\u001b[0m\u001b[0;34m(\u001b[0m\u001b[0;34m(\u001b[0m\u001b[0mkey\u001b[0m\u001b[0;34m,\u001b[0m \u001b[0mos\u001b[0m\u001b[0;34m.\u001b[0m\u001b[0mgetpid\u001b[0m\u001b[0;34m(\u001b[0m\u001b[0;34m)\u001b[0m\u001b[0;34m)\u001b[0m\u001b[0;34m)\u001b[0m\u001b[0;34m\u001b[0m\u001b[0;34m\u001b[0m\u001b[0m\n\u001b[1;32m     89\u001b[0m         \u001b[0;32mreturn\u001b[0m \u001b[0mc\u001b[0m\u001b[0;34m\u001b[0m\u001b[0;34m\u001b[0m\u001b[0m\n",
      "\u001b[0;32m~/anaconda3/envs/torch2/lib/python3.7/multiprocessing/connection.py\u001b[0m in \u001b[0;36mClient\u001b[0;34m(address, family, authkey)\u001b[0m\n\u001b[1;32m    490\u001b[0m         \u001b[0mc\u001b[0m \u001b[0;34m=\u001b[0m \u001b[0mPipeClient\u001b[0m\u001b[0;34m(\u001b[0m\u001b[0maddress\u001b[0m\u001b[0;34m)\u001b[0m\u001b[0;34m\u001b[0m\u001b[0;34m\u001b[0m\u001b[0m\n\u001b[1;32m    491\u001b[0m     \u001b[0;32melse\u001b[0m\u001b[0;34m:\u001b[0m\u001b[0;34m\u001b[0m\u001b[0;34m\u001b[0m\u001b[0m\n\u001b[0;32m--> 492\u001b[0;31m         \u001b[0mc\u001b[0m \u001b[0;34m=\u001b[0m \u001b[0mSocketClient\u001b[0m\u001b[0;34m(\u001b[0m\u001b[0maddress\u001b[0m\u001b[0;34m)\u001b[0m\u001b[0;34m\u001b[0m\u001b[0;34m\u001b[0m\u001b[0m\n\u001b[0m\u001b[1;32m    493\u001b[0m \u001b[0;34m\u001b[0m\u001b[0m\n\u001b[1;32m    494\u001b[0m     \u001b[0;32mif\u001b[0m \u001b[0mauthkey\u001b[0m \u001b[0;32mis\u001b[0m \u001b[0;32mnot\u001b[0m \u001b[0;32mNone\u001b[0m \u001b[0;32mand\u001b[0m \u001b[0;32mnot\u001b[0m \u001b[0misinstance\u001b[0m\u001b[0;34m(\u001b[0m\u001b[0mauthkey\u001b[0m\u001b[0;34m,\u001b[0m \u001b[0mbytes\u001b[0m\u001b[0;34m)\u001b[0m\u001b[0;34m:\u001b[0m\u001b[0;34m\u001b[0m\u001b[0;34m\u001b[0m\u001b[0m\n",
      "\u001b[0;32m~/anaconda3/envs/torch2/lib/python3.7/multiprocessing/connection.py\u001b[0m in \u001b[0;36mSocketClient\u001b[0;34m(address)\u001b[0m\n\u001b[1;32m    618\u001b[0m     \u001b[0;32mwith\u001b[0m \u001b[0msocket\u001b[0m\u001b[0;34m.\u001b[0m\u001b[0msocket\u001b[0m\u001b[0;34m(\u001b[0m \u001b[0mgetattr\u001b[0m\u001b[0;34m(\u001b[0m\u001b[0msocket\u001b[0m\u001b[0;34m,\u001b[0m \u001b[0mfamily\u001b[0m\u001b[0;34m)\u001b[0m \u001b[0;34m)\u001b[0m \u001b[0;32mas\u001b[0m \u001b[0ms\u001b[0m\u001b[0;34m:\u001b[0m\u001b[0;34m\u001b[0m\u001b[0;34m\u001b[0m\u001b[0m\n\u001b[1;32m    619\u001b[0m         \u001b[0ms\u001b[0m\u001b[0;34m.\u001b[0m\u001b[0msetblocking\u001b[0m\u001b[0;34m(\u001b[0m\u001b[0;32mTrue\u001b[0m\u001b[0;34m)\u001b[0m\u001b[0;34m\u001b[0m\u001b[0;34m\u001b[0m\u001b[0m\n\u001b[0;32m--> 620\u001b[0;31m         \u001b[0ms\u001b[0m\u001b[0;34m.\u001b[0m\u001b[0mconnect\u001b[0m\u001b[0;34m(\u001b[0m\u001b[0maddress\u001b[0m\u001b[0;34m)\u001b[0m\u001b[0;34m\u001b[0m\u001b[0;34m\u001b[0m\u001b[0m\n\u001b[0m\u001b[1;32m    621\u001b[0m         \u001b[0;32mreturn\u001b[0m \u001b[0mConnection\u001b[0m\u001b[0;34m(\u001b[0m\u001b[0ms\u001b[0m\u001b[0;34m.\u001b[0m\u001b[0mdetach\u001b[0m\u001b[0;34m(\u001b[0m\u001b[0;34m)\u001b[0m\u001b[0;34m)\u001b[0m\u001b[0;34m\u001b[0m\u001b[0;34m\u001b[0m\u001b[0m\n\u001b[1;32m    622\u001b[0m \u001b[0;34m\u001b[0m\u001b[0m\n",
      "\u001b[0;31mFileNotFoundError\u001b[0m: [Errno 2] No such file or directory"
     ]
    }
   ],
   "source": [
    "import pdb\n",
    "criterion = EWC(fisher, net.parameters(), 0.5)\n",
    "optimizer = torch.optim.SGD(net2.parameters(), lr=10 ** -3)\n",
    "net2.cuda()\n",
    "for epoch in range(10):  # loop over the dataset multiple times\n",
    "\n",
    "    for i, data in enumerate(train_loader2, 0):\n",
    "        # get the inputs; data is a list of [inputs, labels]\n",
    "        rl = 0.0\n",
    "        inputs, labels = data\n",
    "        inputs = inputs.cuda()\n",
    "        labels = labels.cuda()\n",
    "\n",
    "        # zero the parameter gradients\n",
    "        optimizer.zero_grad()\n",
    "\n",
    "        # forward + backward + optimize\n",
    "        outputs = net2(inputs)\n",
    "        pdb.set_trace()\n",
    "        loss = criterion(outputs, labels, net2.parameters())\n",
    "        rl += loss.item()\n",
    "        loss.backward()\n",
    "        optimizer.step()\n",
    "        if i % 1000 == 999:\n",
    "            print(\"Loss: {}\".format(rl / 1000))\n",
    "            rl = 0.0\n",
    "\n",
    "        # print statistics\n",
    "\n",
    "        if i % 20000 == 19999:    # print every 2000 mini-batches\n",
    "            net2.eval()\n",
    "            tot = 0\n",
    "            correct = 0\n",
    "            with torch.no_grad():\n",
    "                for item in test_loader1:\n",
    "                    ims = item[0].cuda()\n",
    "                    labs = item[1].cuda()\n",
    "                    preds = net2(ims)\n",
    "                    preds = torch.sigmoid(preds).cpu().detach().numpy()\n",
    "                    right = preds.argmax(axis=1) == labs.cpu().detach().numpy()\n",
    "                    tot += len(right)\n",
    "                    correct += sum(right)\n",
    "\n",
    "            print(\"Epoch {} Test Accuracy Task 1: {}%\".format(epoch, round(100 * correct / tot, 3)))\n",
    "            tot = 0\n",
    "            correct = 0\n",
    "            with torch.no_grad():\n",
    "                for item in test_loader2:\n",
    "                    ims = item[0].cuda()\n",
    "                    labs = item[1].cuda()\n",
    "                    preds = net2(ims)\n",
    "                    preds = torch.sigmoid(preds).cpu().detach().numpy()\n",
    "                    right = preds.argmax(axis=1) == labs.cpu().detach().numpy()\n",
    "                    tot += len(right)\n",
    "                    correct += sum(right)\n",
    "\n",
    "            print(\"Epoch {} Test Accuracy Task 2: {}%\".format(epoch, round(100 * correct / tot, 3)))\n",
    "            net2.train()\n",
    "print('Finished Training')\n"
   ]
  },
  {
   "cell_type": "code",
   "execution_count": 66,
   "id": "confirmed-twist",
   "metadata": {},
   "outputs": [
    {
     "name": "stdout",
     "output_type": "stream",
     "text": [
      "1.483384370803833\n"
     ]
    }
   ],
   "source": [
    "v = np.random.rand(10 ** 7)\n",
    "start = time.time()\n",
    "for i in range(10 ** 2):\n",
    "    v ** 2\n",
    "print(time.time() - start)"
   ]
  },
  {
   "cell_type": "code",
   "execution_count": 20,
   "id": "turkish-graduation",
   "metadata": {},
   "outputs": [
    {
     "name": "stdout",
     "output_type": "stream",
     "text": [
      "Epoch 10 Validation Accuracy: 98.16%\n"
     ]
    },
    {
     "data": {
      "text/plain": [
       "Net(\n",
       "  (model): Sequential(\n",
       "    (0): Flatten(start_dim=1, end_dim=-1)\n",
       "    (1): Linear(in_features=784, out_features=400, bias=True)\n",
       "    (2): ReLU()\n",
       "    (3): Linear(in_features=400, out_features=400, bias=True)\n",
       "    (4): ReLU()\n",
       "    (5): Linear(in_features=400, out_features=10, bias=True)\n",
       "  )\n",
       ")"
      ]
     },
     "execution_count": 20,
     "metadata": {},
     "output_type": "execute_result"
    }
   ],
   "source": [
    "net.eval()\n",
    "tot = 0\n",
    "correct = 0\n",
    "with torch.no_grad():\n",
    "    for item in test_loader2:\n",
    "        ims = item[0].cuda()\n",
    "        labs = item[1].cuda()\n",
    "        preds = net(ims)\n",
    "        preds = torch.sigmoid(preds).cpu().detach().numpy()\n",
    "        right = preds.argmax(axis=1) == labs.cpu().detach().numpy()\n",
    "        tot += len(right)\n",
    "        correct += sum(right)\n",
    "\n",
    "print(\"Epoch {} Validation Accuracy: {}%\".format(trainer.state.epoch, round(100 * correct / tot, 3)))\n",
    "net.train()"
   ]
  },
  {
   "cell_type": "code",
   "execution_count": 23,
   "id": "resident-constitutional",
   "metadata": {},
   "outputs": [
    {
     "name": "stdout",
     "output_type": "stream",
     "text": [
      "model.1.weight\n",
      "Parameter containing:\n",
      "tensor([[-0.0010, -0.0215, -0.0250,  ...,  0.0065,  0.0283, -0.0226],\n",
      "        [ 0.0252, -0.0094,  0.0043,  ...,  0.0127,  0.0122, -0.0153],\n",
      "        [ 0.0194, -0.0278, -0.0274,  ..., -0.0106,  0.0075,  0.0269],\n",
      "        ...,\n",
      "        [ 0.0841, -0.0356,  0.0574,  ...,  0.0791, -0.0258, -0.0337],\n",
      "        [-0.0259, -0.0220, -0.0053,  ..., -0.0801, -0.0152,  0.0464],\n",
      "        [-0.0285,  0.0353, -0.0504,  ..., -0.0264,  0.0110,  0.0104]],\n",
      "       device='cuda:0', requires_grad=True)\n",
      "model.1.bias\n",
      "Parameter containing:\n",
      "tensor([ 0.0709, -0.0061, -0.0501,  0.0325,  0.0203, -0.0372,  0.0115, -0.0025,\n",
      "        -0.0258,  0.0369,  0.0506, -0.0083,  0.0359,  0.0308,  0.0575,  0.0993,\n",
      "        -0.0386, -0.0272,  0.0063,  0.0296, -0.0769, -0.0245,  0.0014, -0.0311,\n",
      "        -0.0185,  0.0223,  0.0750,  0.0502, -0.0095,  0.0383,  0.0711,  0.0243,\n",
      "         0.0408,  0.1451, -0.0033,  0.0863,  0.0722,  0.0396, -0.0185,  0.0249,\n",
      "        -0.0129, -0.0681,  0.0310,  0.0209,  0.0736,  0.1029,  0.0194,  0.0300,\n",
      "        -0.0400,  0.0297, -0.0129,  0.0399,  0.0196,  0.0481,  0.0320,  0.0429,\n",
      "        -0.0461,  0.1218,  0.0196, -0.0474, -0.0119, -0.0104,  0.0021, -0.0080,\n",
      "         0.0276,  0.0404, -0.0287,  0.0372,  0.0024, -0.0720, -0.0117,  0.0860,\n",
      "         0.0325,  0.0518,  0.0214,  0.0961,  0.0861,  0.0960, -0.0331, -0.0474,\n",
      "        -0.0371,  0.0250, -0.0580,  0.0455,  0.0972, -0.0097,  0.0386,  0.0615,\n",
      "         0.0258,  0.0311,  0.0061,  0.0042, -0.0346,  0.0802,  0.0824, -0.1232,\n",
      "         0.0244,  0.1074,  0.0416, -0.0468,  0.0661,  0.0470,  0.1066,  0.0426,\n",
      "        -0.0986,  0.0254, -0.0458,  0.0695, -0.0721,  0.0196,  0.0148,  0.0169,\n",
      "         0.0264,  0.0214,  0.0243, -0.0098,  0.0327,  0.0813,  0.0253,  0.0736,\n",
      "         0.0163,  0.0399,  0.0087, -0.0121, -0.0178,  0.0038,  0.0344,  0.0083,\n",
      "        -0.0260, -0.0273,  0.0873, -0.0081, -0.0047, -0.0042, -0.0294,  0.0557,\n",
      "         0.0468,  0.0587, -0.0277, -0.0075,  0.0217,  0.0653,  0.1288, -0.0036,\n",
      "         0.0564,  0.0431, -0.0007,  0.0999,  0.0576,  0.0292,  0.1452, -0.0360,\n",
      "         0.0355, -0.0820, -0.0245,  0.0309,  0.0110,  0.0164,  0.0060, -0.0020,\n",
      "         0.0127,  0.0210,  0.0266,  0.0120,  0.0555,  0.0186, -0.0234, -0.0196,\n",
      "         0.0273, -0.0245,  0.0153, -0.0050,  0.0480, -0.0709,  0.1075,  0.0164,\n",
      "         0.1807,  0.0937,  0.0752,  0.0414,  0.0215, -0.0157,  0.0510, -0.0568,\n",
      "         0.0825,  0.0412, -0.0124,  0.0306,  0.0545, -0.0516,  0.1347,  0.1177,\n",
      "         0.0385,  0.0102,  0.0689,  0.0601, -0.0077, -0.0084,  0.0138,  0.0653,\n",
      "         0.0408, -0.0087,  0.0273,  0.0065,  0.0081, -0.0280,  0.0605, -0.1501,\n",
      "         0.0138,  0.0553,  0.0246,  0.0011, -0.0805, -0.0156,  0.0126, -0.0091,\n",
      "         0.0449, -0.0796, -0.0225,  0.0362, -0.0100, -0.1460,  0.0274,  0.0369,\n",
      "        -0.0056,  0.0077, -0.0841,  0.0374, -0.0798,  0.0296,  0.0266,  0.0692,\n",
      "        -0.0084, -0.0574,  0.0177,  0.0431,  0.0473,  0.0693,  0.0172, -0.0220,\n",
      "        -0.0835, -0.0181,  0.0573, -0.0197,  0.0083,  0.1040, -0.0332, -0.0437,\n",
      "        -0.0239,  0.0283,  0.0043,  0.1080,  0.0268,  0.0192, -0.0038,  0.0337,\n",
      "         0.0414,  0.0638,  0.0949, -0.0321,  0.0027,  0.0143, -0.0400,  0.0755,\n",
      "         0.0594,  0.0118, -0.0397,  0.0033, -0.0125, -0.0192, -0.0117,  0.1166,\n",
      "         0.0258,  0.0600, -0.0590,  0.0233,  0.0052,  0.0117,  0.0133,  0.0984,\n",
      "         0.0701,  0.0380, -0.0089, -0.0223, -0.0441,  0.0318, -0.0163,  0.0317,\n",
      "         0.0077,  0.0005, -0.0219,  0.0334,  0.1006,  0.0782,  0.0531, -0.0006,\n",
      "         0.0653, -0.0094,  0.0257, -0.0068,  0.0454, -0.0537,  0.0136,  0.0681,\n",
      "        -0.0597, -0.0089,  0.0035, -0.0640,  0.0030,  0.0037,  0.0165,  0.0197,\n",
      "        -0.0021,  0.0418, -0.0389, -0.0199, -0.0216,  0.0843, -0.0284,  0.0718,\n",
      "         0.0392,  0.0706,  0.0343,  0.0573, -0.0073,  0.0213,  0.0772,  0.1056,\n",
      "         0.0933,  0.0293,  0.0228,  0.0596,  0.0324,  0.0495, -0.0133, -0.0248,\n",
      "         0.0261,  0.0217,  0.0353,  0.0482,  0.0406,  0.0409, -0.0226,  0.0414,\n",
      "        -0.0459,  0.1083,  0.0316,  0.0675,  0.0993, -0.0132,  0.0155, -0.0029,\n",
      "        -0.0289,  0.0088, -0.0201,  0.1046,  0.1592, -0.0246,  0.1071,  0.0283,\n",
      "         0.0061,  0.0565,  0.0048, -0.0551,  0.0471,  0.0065, -0.0208,  0.0081,\n",
      "         0.0133,  0.0043,  0.0165,  0.0661,  0.0201,  0.0413,  0.0060, -0.0387,\n",
      "         0.0674,  0.0627,  0.0360,  0.0036,  0.0036,  0.1118, -0.0548, -0.0386,\n",
      "         0.0368,  0.0349, -0.0015, -0.0488,  0.0354,  0.0118, -0.0106,  0.0383,\n",
      "         0.0687,  0.0178,  0.0497, -0.0126,  0.0403, -0.0227,  0.0247,  0.0869],\n",
      "       device='cuda:0', requires_grad=True)\n",
      "model.3.weight\n",
      "Parameter containing:\n",
      "tensor([[ 0.0507,  0.0177,  0.0206,  ..., -0.0174, -0.0455,  0.0033],\n",
      "        [ 0.0172, -0.0243,  0.0113,  ..., -0.0181, -0.0467, -0.0087],\n",
      "        [ 0.0597,  0.0387,  0.0327,  ...,  0.0100, -0.0100,  0.0478],\n",
      "        ...,\n",
      "        [ 0.0785, -0.0473,  0.0343,  ..., -0.0026, -0.0121, -0.0032],\n",
      "        [-0.0054, -0.0069, -0.0034,  ..., -0.0127,  0.0250, -0.0211],\n",
      "        [-0.0225,  0.0474,  0.0470,  ...,  0.0269,  0.0505,  0.0492]],\n",
      "       device='cuda:0', requires_grad=True)\n",
      "model.3.bias\n",
      "Parameter containing:\n",
      "tensor([ 0.0184, -0.0240,  0.0851,  0.0233, -0.0005, -0.0440,  0.0706, -0.0162,\n",
      "         0.0926,  0.0373, -0.0044, -0.0346, -0.0116,  0.0339, -0.0259,  0.0519,\n",
      "        -0.0048,  0.0013,  0.0714, -0.0457,  0.0207,  0.0359,  0.0059,  0.0670,\n",
      "        -0.0002,  0.0434,  0.0156, -0.0149,  0.0713, -0.0469, -0.0028,  0.0947,\n",
      "         0.1001,  0.0522,  0.0395, -0.0371,  0.0233,  0.0476,  0.0118,  0.0488,\n",
      "        -0.0020,  0.0039, -0.0262, -0.0136, -0.0424,  0.0349,  0.0175,  0.0592,\n",
      "         0.0180,  0.0677,  0.0169, -0.0166, -0.0451, -0.0043,  0.0570,  0.0436,\n",
      "         0.0395,  0.0601,  0.0384,  0.1076, -0.0307,  0.1028, -0.0257, -0.0205,\n",
      "         0.0626, -0.0268,  0.0437,  0.0461,  0.0281,  0.0769,  0.0528,  0.0549,\n",
      "         0.0061,  0.0896, -0.0378,  0.0165,  0.0047,  0.0113,  0.0535, -0.0184,\n",
      "         0.0702, -0.0021,  0.0048, -0.0123,  0.0783,  0.0649,  0.0150,  0.0346,\n",
      "        -0.0284,  0.0560, -0.0055,  0.0656,  0.0781,  0.0615,  0.0901,  0.0207,\n",
      "         0.0533,  0.0053, -0.0121,  0.0303,  0.0656,  0.1194,  0.0501,  0.0365,\n",
      "         0.0331,  0.0609, -0.0075,  0.0634, -0.0147,  0.0725,  0.0336,  0.1058,\n",
      "         0.0433,  0.0157,  0.0668,  0.0125,  0.0073,  0.0710,  0.0259,  0.0486,\n",
      "         0.0604,  0.0076,  0.0046,  0.0164, -0.0486,  0.0451, -0.0298, -0.0312,\n",
      "         0.0566, -0.0451,  0.0586,  0.0831,  0.0498,  0.0229,  0.0243,  0.0007,\n",
      "         0.0913, -0.0100,  0.0100,  0.0136,  0.0750, -0.0280,  0.0134,  0.0520,\n",
      "         0.1242,  0.0395,  0.0844, -0.0182, -0.0123,  0.0324, -0.0224,  0.0524,\n",
      "         0.0074, -0.0076,  0.0794,  0.0777,  0.0784,  0.1093,  0.0695,  0.0886,\n",
      "         0.0467, -0.0170,  0.0384,  0.0964,  0.0713,  0.0305,  0.1041,  0.0211,\n",
      "         0.0628,  0.0264, -0.0288,  0.1029,  0.0518,  0.0341, -0.0430,  0.0136,\n",
      "         0.0532,  0.0645,  0.0228,  0.0080,  0.0021,  0.0338,  0.0231,  0.0266,\n",
      "         0.0577,  0.0314,  0.0263, -0.0304,  0.0209,  0.0408,  0.0245, -0.0119,\n",
      "         0.1188,  0.0257,  0.0631, -0.0177,  0.1187,  0.0005, -0.0222,  0.0499,\n",
      "         0.0973,  0.0551,  0.0768,  0.0683, -0.0158,  0.0321,  0.0426,  0.0838,\n",
      "         0.0855, -0.0519,  0.0530,  0.0663,  0.0286, -0.0331,  0.0630,  0.0389,\n",
      "         0.0517,  0.1141, -0.0352, -0.0452, -0.0172, -0.0302,  0.0270,  0.0260,\n",
      "         0.0059,  0.0323,  0.0942, -0.0358,  0.0120,  0.0404, -0.0468,  0.0532,\n",
      "         0.0125, -0.0049,  0.0471, -0.0410,  0.0134,  0.0997,  0.0479,  0.0910,\n",
      "        -0.0077, -0.0064, -0.0495, -0.0219,  0.0577,  0.0818,  0.0207, -0.0129,\n",
      "         0.0558,  0.0812,  0.0097,  0.0908, -0.0305, -0.0096,  0.0074, -0.0417,\n",
      "         0.0538,  0.0266,  0.0358,  0.0058,  0.0808, -0.0377,  0.0481,  0.0824,\n",
      "        -0.0438,  0.0105,  0.0206,  0.0249,  0.0764, -0.0267,  0.0440,  0.0374,\n",
      "         0.0442,  0.0029, -0.0105,  0.0400, -0.0091,  0.0637,  0.0366,  0.0169,\n",
      "         0.0096, -0.0041,  0.0974,  0.0463,  0.0651, -0.0061, -0.0276,  0.0057,\n",
      "         0.0458,  0.0199, -0.0287, -0.0482,  0.0446,  0.0127,  0.0192,  0.0222,\n",
      "        -0.0238,  0.0892,  0.0672, -0.0127, -0.0172,  0.0552, -0.0057,  0.0267,\n",
      "         0.0782,  0.0043,  0.0721, -0.0423, -0.0288,  0.0977, -0.0269,  0.0283,\n",
      "        -0.0337,  0.0505, -0.0160,  0.0509,  0.0492,  0.0331, -0.0262,  0.0386,\n",
      "        -0.0343,  0.0885,  0.0190, -0.0208,  0.0436,  0.0460, -0.0604,  0.0394,\n",
      "        -0.0233,  0.0572, -0.0354,  0.0332,  0.0671,  0.0023,  0.0610,  0.0095,\n",
      "         0.0773,  0.0153, -0.0250, -0.0160, -0.0328,  0.0439,  0.0697, -0.0207,\n",
      "         0.0107,  0.0092,  0.0731,  0.0598,  0.0737,  0.0206, -0.0015, -0.0120,\n",
      "         0.0285,  0.0462,  0.0654, -0.0303,  0.0142,  0.0200,  0.0272,  0.0285,\n",
      "         0.0316,  0.0232, -0.0021,  0.0294,  0.0415, -0.0298,  0.0415,  0.0479,\n",
      "         0.0150, -0.0350,  0.1231, -0.0360, -0.0502, -0.0314, -0.0301,  0.0946,\n",
      "         0.0256, -0.0126, -0.0296,  0.0817,  0.0360,  0.1275, -0.0353,  0.0273,\n",
      "         0.0247,  0.0996,  0.0047, -0.0326,  0.0924,  0.0384,  0.0501,  0.0245,\n",
      "         0.0699, -0.0512,  0.0248,  0.0159, -0.0303, -0.0058, -0.0031, -0.0212],\n",
      "       device='cuda:0', requires_grad=True)\n",
      "model.5.weight\n",
      "Parameter containing:\n",
      "tensor([[ 0.1734,  0.1227, -0.0222,  ..., -0.0215,  0.1690, -0.0227],\n",
      "        [-0.0960,  0.0377,  0.0432,  ...,  0.1410, -0.0749,  0.0317],\n",
      "        [-0.1222,  0.1809, -0.2148,  ..., -0.0929, -0.1323,  0.0169],\n",
      "        ...,\n",
      "        [-0.0602, -0.2219,  0.0880,  ..., -0.1053,  0.1416, -0.0491],\n",
      "        [ 0.0115, -0.1270, -0.0295,  ...,  0.1366,  0.1664,  0.0165],\n",
      "        [ 0.1940,  0.0660, -0.3532,  ..., -0.0061,  0.1820,  0.0219]],\n",
      "       device='cuda:0', requires_grad=True)\n",
      "model.5.bias\n",
      "Parameter containing:\n",
      "tensor([-0.1798,  0.1256, -0.0706, -0.0787, -0.0395,  0.2516, -0.0619,  0.0439,\n",
      "        -0.0778, -0.0192], device='cuda:0', requires_grad=True)\n"
     ]
    }
   ],
   "source": [
    "for name, param in net.named_parameters():\n",
    "    print(name)\n",
    "    print(param)"
   ]
  }
 ],
 "metadata": {
  "kernelspec": {
   "display_name": "Python 3",
   "language": "python",
   "name": "python3"
  },
  "language_info": {
   "codemirror_mode": {
    "name": "ipython",
    "version": 3
   },
   "file_extension": ".py",
   "mimetype": "text/x-python",
   "name": "python",
   "nbconvert_exporter": "python",
   "pygments_lexer": "ipython3",
   "version": "3.7.9"
  }
 },
 "nbformat": 4,
 "nbformat_minor": 5
}
